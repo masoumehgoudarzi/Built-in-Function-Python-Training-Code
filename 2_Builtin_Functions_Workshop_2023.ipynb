{
  "cells": [
    {
      "cell_type": "markdown",
      "source": [
        "#**Python Workshop (2) - Built-in Functions**\n",
        "#**Prepared by:**\n",
        "#Arian Yavari\n",
        "#Masoumeh Goudarzi\n",
        "#Hamid Shirdastian, PhD\n",
        "All authorized workshop material cannot be redistributed without the prior consent of the instructors."
      ],
      "metadata": {
        "id": "1il8pDypEKqg"
      }
    },
    {
      "cell_type": "markdown",
      "metadata": {
        "id": "NRgb3jLnEApg"
      },
      "source": [
        "# Useful built-in functions"
      ]
    },
    {
      "cell_type": "markdown",
      "metadata": {
        "id": "dqvu2rh8EApj"
      },
      "source": [
        "## 1. abs\n",
        "\n",
        "Returns the absolute value of a number."
      ]
    },
    {
      "cell_type": "code",
      "execution_count": null,
      "metadata": {
        "id": "IsP_tPjaEApj",
        "outputId": "4e12759b-b480-428a-ecd0-206d8d627ab5"
      },
      "outputs": [
        {
          "name": "stdout",
          "output_type": "stream",
          "text": [
            "1\n",
            "1\n",
            "4.62\n",
            "4.62\n",
            "7.615773105863909\n",
            "inside of the __abs__ special method, which is called for the object with -1 value.\n"
          ]
        }
      ],
      "source": [
        "print(abs(-1)) # a negative integer passed as the arguement\n",
        "print(abs(1)) # A positive integer passed as the argument\n",
        "print(abs(-4.62)) # A complex value passed as the argument\n",
        "print(abs(4.62))\n",
        "print(abs(-3 + 7j))"
      ]
    },
    {
      "cell_type": "markdown",
      "source": [
        "More advanced example:"
      ],
      "metadata": {
        "id": "dWF4itrHGUtq"
      }
    },
    {
      "cell_type": "code",
      "source": [
        "class t:\n",
        "    \"\"\"a simple class implementing __abs__ special method.\"\"\"\n",
        "\n",
        "    def __init__(self, num):\n",
        "        self.num = num\n",
        "\n",
        "    def __abs__(self) -> str:\n",
        "        return f\"inside of the __abs__ special method, which is called for the object with {self.num} value.\"\n",
        "\n",
        "o = t(-1) # a negative integer value used to instantiate an object from the t class\n",
        "print(abs(o)) # abs function uses the __abs__ special method of the object instantiated"
      ],
      "metadata": {
        "id": "vQwFPtdvGTXB"
      },
      "execution_count": null,
      "outputs": []
    },
    {
      "cell_type": "markdown",
      "metadata": {
        "id": "tO4NXYhXEApl"
      },
      "source": [
        "## 2. bool\n",
        "bool is a built-in Python type that represents Boolean values. Boolean values are True and False, and are used in logical operations to determine the truth or falsehood of an expression."
      ]
    },
    {
      "cell_type": "markdown",
      "source": [
        "Lists:"
      ],
      "metadata": {
        "id": "EbY-lZNjG2Nj"
      }
    },
    {
      "cell_type": "code",
      "execution_count": null,
      "metadata": {
        "id": "fFXwbTpTEApm",
        "outputId": "ed8308c9-b1f9-40df-8203-302e06ba28f5"
      },
      "outputs": [
        {
          "name": "stdout",
          "output_type": "stream",
          "text": [
            "False\n",
            "False\n",
            "True\n",
            "True\n",
            "True\n",
            "True\n"
          ]
        }
      ],
      "source": [
        "# print(bool([]))\n",
        "# print(bool([1]))\n",
        "# print(bool([2,]))\n",
        "# print(bool([False]))"
      ]
    },
    {
      "cell_type": "markdown",
      "source": [
        "Tuples: a sequence of values, similar to a list. However, unlike lists, tuples are immutable, which means that once a tuple is created, its contents cannot be modified."
      ],
      "metadata": {
        "id": "Q87slBBgG1MA"
      }
    },
    {
      "cell_type": "code",
      "source": [
        "print(bool(()))\n",
        "print(bool(0,))\n",
        "print(bool((1,)))\n",
        "print(bool((2,)))\n",
        "print(bool((False,))) # Not an empty Tuple\n",
        "print(bool((True,))) # Not an empy Tuple"
      ],
      "metadata": {
        "id": "NR3sBbd1G0RN"
      },
      "execution_count": null,
      "outputs": []
    },
    {
      "cell_type": "markdown",
      "source": [
        "Boolean values"
      ],
      "metadata": {
        "id": "U5hEDDtBHZm3"
      }
    },
    {
      "cell_type": "code",
      "source": [
        "# print(bool(False))\n",
        "# print(bool(True))"
      ],
      "metadata": {
        "id": "P30XMuU2HSfy"
      },
      "execution_count": null,
      "outputs": []
    },
    {
      "cell_type": "markdown",
      "source": [
        "Integers"
      ],
      "metadata": {
        "id": "-m3IdxgjHgai"
      }
    },
    {
      "cell_type": "code",
      "source": [
        "print(bool(0))\n",
        "# print(bool(1))\n",
        "# print(bool(2))"
      ],
      "metadata": {
        "id": "AQSBgwCJHU-O",
        "outputId": "a0b2ec45-79ad-4246-91a1-1939ac684c54",
        "colab": {
          "base_uri": "https://localhost:8080/"
        }
      },
      "execution_count": null,
      "outputs": [
        {
          "output_type": "stream",
          "name": "stdout",
          "text": [
            "False\n"
          ]
        }
      ]
    },
    {
      "cell_type": "markdown",
      "source": [
        "Dictionaries"
      ],
      "metadata": {
        "id": "3jPw7QglHi7d"
      }
    },
    {
      "cell_type": "code",
      "source": [
        "# print(bool({}))\n",
        "# print(bool({1: 2}))"
      ],
      "metadata": {
        "id": "BLhG1LiuHXh9"
      },
      "execution_count": null,
      "outputs": []
    },
    {
      "cell_type": "markdown",
      "metadata": {
        "id": "QRt6EbTsEApm"
      },
      "source": [
        "## 3. dict\n",
        "A dictionary is a collection of key-value pairs. Dictionaries are similar to lists, but instead of being indexed by integers, they are indexed by keys, which can be of any hashable type. Keys are used to access values in the dictionary."
      ]
    },
    {
      "cell_type": "code",
      "execution_count": null,
      "metadata": {
        "id": "0n2r_TsHEApn",
        "outputId": "0ca8716c-3b59-4703-9239-2a6a0212835d"
      },
      "outputs": [
        {
          "name": "stdout",
          "output_type": "stream",
          "text": [
            "{'arian': 'one', 'arian2': 'two'}\n"
          ]
        }
      ],
      "source": [
        "a = dict(arian = \"one\", arian2 = \"two\")\n",
        "print(a)\n",
        "\n",
        "# learn how feed mapping to the dict built-in function"
      ]
    },
    {
      "cell_type": "markdown",
      "metadata": {
        "id": "c9FEksWgEApn"
      },
      "source": [
        "## 4. dir\n",
        "Returns a list of valid attributes and methods for a given object.\n",
        "\n",
        "If called without an argument, return the names in the current scope. Else, return an alphabetized list of names comprising (some of) the attributes of the given object, and of attributes reachable from it."
      ]
    },
    {
      "cell_type": "code",
      "source": [
        "print(dir())"
      ],
      "metadata": {
        "colab": {
          "base_uri": "https://localhost:8080/"
        },
        "id": "5fAn43DpIaWS",
        "outputId": "325db952-0696-47d6-b27e-5100d00f5e56"
      },
      "execution_count": null,
      "outputs": [
        {
          "output_type": "stream",
          "name": "stdout",
          "text": [
            "['In', 'Out', '_', '__', '___', '__builtin__', '__builtins__', '__doc__', '__loader__', '__name__', '__package__', '__spec__', '_dh', '_i', '_i1', '_ih', '_ii', '_iii', '_oh', 'exit', 'get_ipython', 'quit']\n"
          ]
        }
      ]
    },
    {
      "cell_type": "markdown",
      "source": [
        "Another example:"
      ],
      "metadata": {
        "id": "iHIFibsNIuez"
      }
    },
    {
      "cell_type": "code",
      "execution_count": null,
      "metadata": {
        "id": "Ksr5bXb6EApn",
        "colab": {
          "base_uri": "https://localhost:8080/"
        },
        "outputId": "b5c11efe-f882-4b7c-aa54-3d2c99647517"
      },
      "outputs": [
        {
          "output_type": "stream",
          "name": "stdout",
          "text": [
            "[]\n",
            "['BasicContext', 'Clamped', 'Context', 'ConversionSyntax', 'Decimal', 'DecimalException', 'DecimalTuple', 'DefaultContext', 'DivisionByZero', 'DivisionImpossible', 'DivisionUndefined', 'ExtendedContext', 'FloatOperation', 'HAVE_CONTEXTVAR', 'HAVE_THREADS', 'Inexact', 'InvalidContext', 'InvalidOperation', 'MAX_EMAX', 'MAX_PREC', 'MIN_EMIN', 'MIN_ETINY', 'Overflow', 'ROUND_05UP', 'ROUND_CEILING', 'ROUND_DOWN', 'ROUND_FLOOR', 'ROUND_HALF_DOWN', 'ROUND_HALF_EVEN', 'ROUND_HALF_UP', 'ROUND_UP', 'Rounded', 'Subnormal', 'Underflow', '__builtins__', '__cached__', '__doc__', '__file__', '__libmpdec_version__', '__loader__', '__name__', '__package__', '__spec__', '__version__', 'getcontext', 'localcontext', 'setcontext']\n",
            "['__abs__', '__add__', '__bool__', '__ceil__', '__class__', '__delattr__', '__dir__', '__divmod__', '__doc__', '__eq__', '__float__', '__floor__', '__floordiv__', '__format__', '__ge__', '__getattribute__', '__getformat__', '__getnewargs__', '__gt__', '__hash__', '__init__', '__init_subclass__', '__int__', '__le__', '__lt__', '__mod__', '__mul__', '__ne__', '__neg__', '__new__', '__pos__', '__pow__', '__radd__', '__rdivmod__', '__reduce__', '__reduce_ex__', '__repr__', '__rfloordiv__', '__rmod__', '__rmul__', '__round__', '__rpow__', '__rsub__', '__rtruediv__', '__setattr__', '__setformat__', '__sizeof__', '__str__', '__sub__', '__subclasshook__', '__truediv__', '__trunc__', 'as_integer_ratio', 'conjugate', 'fromhex', 'hex', 'imag', 'is_integer', 'real']\n"
          ]
        }
      ],
      "source": [
        "import decimal\n",
        "\n",
        "\n",
        "class t:\n",
        "    \"\"\"A simple class implemented to demonstrate the use of dir built-in function.\"\"\"\n",
        "\n",
        "    def __init__(self):\n",
        "        # self.__dict__ = {\"ss\": \"one\"}\n",
        "        pass\n",
        "\n",
        "    # def __dir__(self):\n",
        "        # return [\"None\"]\n",
        "\n",
        "    def __getattr__(self, name):\n",
        "        return \"None\"\n",
        "\n",
        "    def __getattribute__(self, name):\n",
        "        return \"None\"\n",
        "\n",
        "\n",
        "a = t()\n",
        "print(dir(a))\n",
        "\n",
        "# print(dir()) # show the results in the local scope or aka the module namespace\n",
        "\n",
        "print(dir(decimal)) # show the names in the decimal module\n",
        "\n",
        "\n",
        "# notes\n",
        "#  metaclass attributes are not in the result list when the argument is a class.\n",
        "\n",
        "\n",
        "print(dir(2.3))"
      ]
    },
    {
      "cell_type": "markdown",
      "metadata": {
        "id": "NBRcPJBjEApo"
      },
      "source": [
        "## 5. enumerate\n",
        "Adds a counter to an iterable and returns it as an enumerate object. The enumerate() function takes an iterable (e.g. a list, tuple, or string) and returns a sequence of pairs, where each pair consists of an index and the corresponding element of the iterable."
      ]
    },
    {
      "cell_type": "code",
      "source": [
        "fruits = ['apple', 'banana', 'cherry']\n",
        "\n",
        "for index, fruit in enumerate(fruits):\n",
        "    print(index, fruit)"
      ],
      "metadata": {
        "id": "aaapcCMxJQnC"
      },
      "execution_count": null,
      "outputs": []
    },
    {
      "cell_type": "markdown",
      "source": [
        "Another example:"
      ],
      "metadata": {
        "id": "JkPtaHeCJVTj"
      }
    },
    {
      "cell_type": "code",
      "execution_count": null,
      "metadata": {
        "id": "8EWj6h3sEApp"
      },
      "outputs": [],
      "source": [
        "seasons = [\"Spring\", \"Summer\", \"Fall\", \"Winter\"]\n",
        "\n",
        "a = enumerate(seasons, start = 1)\n",
        "\n",
        "# print(a, a.__next__(), a.__next__(), a.__next__(), a.__next__())\n",
        "\n",
        "for i in range(len(seasons)):\n",
        "    print(a.__next__())\n",
        "\n",
        "print(list(enumerate(seasons, start = 1)))"
      ]
    },
    {
      "cell_type": "code",
      "source": [
        "# which is equivalent to the function definition below\n",
        "\n",
        "def enumerate_simulated(sequence, start = 0):\n",
        "    counter = start\n",
        "    for i in sequence:\n",
        "        yield counter, i\n",
        "        counter += 1\n",
        "\n",
        "b = enumerate_simulated(seasons, start = 1)\n",
        "\n",
        "for i in range(len(seasons)):\n",
        "    print(b.__next__())"
      ],
      "metadata": {
        "id": "KzFsO1sLJZcR"
      },
      "execution_count": null,
      "outputs": []
    },
    {
      "cell_type": "markdown",
      "metadata": {
        "id": "aW8SURcnEApp"
      },
      "source": [
        "# 6. filter\n",
        "The filter() function is used to filter out elements from an iterable based on a given function."
      ]
    },
    {
      "cell_type": "code",
      "execution_count": 1,
      "metadata": {
        "id": "8bHkFVhsEApp",
        "colab": {
          "base_uri": "https://localhost:8080/"
        },
        "outputId": "3f909bf1-6c89-4a0a-deec-99d0e3eeca40"
      },
      "outputs": [
        {
          "output_type": "stream",
          "name": "stdout",
          "text": [
            "\n",
            "hey\n"
          ]
        }
      ],
      "source": [
        "a = [1, True, False, 0, 2, -2, \"\", \"hey\", None, []]\n",
        "\n",
        "def f(x):\n",
        "    if type(x) == str:\n",
        "        return True\n",
        "\n",
        "# result = filter(f, a)\n",
        "# result = filter(None, a)\n",
        "\n",
        "# which is equivalent to the generator expression below\n",
        "result = (item for item in a if f(item)) # returns a generator object\n",
        "# result = [item for item in a if f(item)] # returns a list\n",
        "for i in result:\n",
        "    print(i)"
      ]
    },
    {
      "cell_type": "markdown",
      "metadata": {
        "id": "-w6hdRlvEApq"
      },
      "source": [
        "## 7. float"
      ]
    },
    {
      "cell_type": "code",
      "execution_count": null,
      "metadata": {
        "id": "L3rEI8F8EApq",
        "outputId": "d8e2f4b1-8fe8-4022-84dc-01eacec925d1",
        "colab": {
          "base_uri": "https://localhost:8080/"
        }
      },
      "outputs": [
        {
          "output_type": "stream",
          "name": "stdout",
          "text": [
            "<class 'float'> 1.0\n"
          ]
        }
      ],
      "source": [
        "a = float(1)\n",
        "#b = float(\"1\")\n",
        "#c = float(\"1.15\")\n",
        "#d = float(\"-1.2\")\n",
        "#e = float(\" -1.2 \")\n",
        "#f = float(\" NaN \")\n",
        "#g = float(-1.2)\n",
        "#h = float(\"inf\")\n",
        "#i = float(\"infinity\") # upper or lower case does not matter\n",
        "#j = float(\"-infinity\")\n",
        "#l = float(\"4\\n\\t\")\n",
        "#m = float()\n",
        "#n = float(4e-004) # with or without quotations it does not matter\n",
        "#o = float(\"-5E6\")\n",
        "\n",
        "# white spaces are not allowd between the sign and the number\n",
        "\n",
        "print(type(a), a)\n",
        "#print(type(b), b)\n",
        "#print(type(c), c)\n",
        "#print(type(d), d)\n",
        "#print(type(e), e)\n",
        "#print(type(f), f)\n",
        "#print(type(g), g)\n",
        "#print(type(h), h)\n",
        "#print(type(i), i)\n",
        "#print(type(j), j)\n",
        "#print(type(l), l)\n",
        "#print(type(m), m)\n",
        "#print(type(n), n)\n",
        "#print(type(o), o)"
      ]
    },
    {
      "cell_type": "markdown",
      "source": [
        "# Extra info:"
      ],
      "metadata": {
        "id": "pcMfWNUXKLSL"
      }
    },
    {
      "cell_type": "code",
      "source": [
        "class f:\n",
        "    def __init__(self, val):\n",
        "        self.val = val\n",
        "\n",
        "    def __float__(self):\n",
        "        return 2.0 # must return a float\n",
        "\n",
        "    def __index__(self):\n",
        "        return 3 # must return an integer\n",
        "\n",
        "    # if the class does not implement neither the __float__ or __index__ special methods interpreter will raise a type error with the name of the class\n",
        "    # the object was created from\n",
        "\n",
        "k = f(1)\n",
        "print(float(k))"
      ],
      "metadata": {
        "id": "gxUdQuEAKJ0B"
      },
      "execution_count": null,
      "outputs": []
    },
    {
      "cell_type": "markdown",
      "metadata": {
        "id": "QyBx1sneEApr"
      },
      "source": [
        "## 8.frozenset\n",
        "A frozenset is an immutable set. It is similar to a set, but once a frozenset object is created, its elements cannot be modified."
      ]
    },
    {
      "cell_type": "code",
      "execution_count": null,
      "metadata": {
        "id": "7nx5k6NQEApr",
        "outputId": "ab6ed769-648a-41b0-962a-9f243ba5c292"
      },
      "outputs": [
        {
          "name": "stdout",
          "output_type": "stream",
          "text": [
            "<class 'frozenset'> frozenset({0, 1, 2, 'two', 'one', 'ok'}) ['__and__', '__class__', '__class_getitem__', '__contains__', '__delattr__', '__dir__', '__doc__', '__eq__', '__format__', '__ge__', '__getattribute__', '__getstate__', '__gt__', '__hash__', '__init__', '__init_subclass__', '__iter__', '__le__', '__len__', '__lt__', '__ne__', '__new__', '__or__', '__rand__', '__reduce__', '__reduce_ex__', '__repr__', '__ror__', '__rsub__', '__rxor__', '__setattr__', '__sizeof__', '__str__', '__sub__', '__subclasshook__', '__xor__', 'copy', 'difference', 'intersection', 'isdisjoint', 'issubset', 'issuperset', 'symmetric_difference', 'union']\n"
          ]
        }
      ],
      "source": [
        "a = [\"ok\", \"one\", 'two', 1, 0, 2]\n",
        "\n",
        "b = frozenset(a)\n",
        "print(type(b), b)"
      ]
    },
    {
      "cell_type": "markdown",
      "metadata": {
        "id": "AwyVSha3EApr"
      },
      "source": [
        "## 9. help"
      ]
    },
    {
      "cell_type": "code",
      "execution_count": null,
      "metadata": {
        "id": "nWpSBg7hEApr",
        "outputId": "6574c362-88da-4beb-a8e8-60471e671d99"
      },
      "outputs": [
        {
          "name": "stdout",
          "output_type": "stream",
          "text": [
            "\n",
            "Welcome to Python 3.11's help utility!\n",
            "\n",
            "If this is your first time using Python, you should definitely check out\n",
            "the tutorial on the internet at https://docs.python.org/3.11/tutorial/.\n",
            "\n",
            "Enter the name of any module, keyword, or topic to get help on writing\n",
            "Python programs and using Python modules.  To quit this help utility and\n",
            "return to the interpreter, just type \"quit\".\n",
            "\n",
            "To get a list of available modules, keywords, symbols, or topics, type\n",
            "\"modules\", \"keywords\", \"symbols\", or \"topics\".  Each module also comes\n",
            "with a one-line summary of what it does; to list the modules whose name\n",
            "or summary contain a given string such as \"spam\", type \"modules spam\".\n",
            "\n",
            "\n",
            "You are now leaving help and returning to the Python interpreter.\n",
            "If you want to ask for help on a particular object directly from the\n",
            "interpreter, you can type \"help(object)\".  Executing \"help('string')\"\n",
            "has the same effect as typing a particular string at the help> prompt.\n",
            "None\n"
          ]
        }
      ],
      "source": [
        "print(help())"
      ]
    },
    {
      "cell_type": "markdown",
      "metadata": {
        "id": "iIsWH8elEAps"
      },
      "source": [
        "## 10. list\n",
        "A list is a collection of values that are ordered and mutable. You can create a list by enclosing a sequence of values in square brackets [], separated by commas. For example:\n",
        "\n",
        "\n",
        "```\n",
        "my_list = [1, 2, 3, 4, 5]\n",
        "# ```\n",
        "\n"
      ]
    },
    {
      "cell_type": "code",
      "execution_count": null,
      "metadata": {
        "id": "DO93wO5iEAps"
      },
      "outputs": [],
      "source": [
        "a = list([1, 2, 3])\n",
        "#b = list(set([\"One\", \"Two\"]))\n",
        "#c = list(range(0, 11, 2))\n",
        "#d = list((\"2\", \"Three\", 3))\n",
        "#e = list((i for i in range(0, 5)))\n",
        "#f = list(iter([i for i in range(0, 5)])) # feeding a list_iterator object to the list built-in function\n",
        "#g = list(iter((i for i in range(0, 5)))) # feeding a generator object to the list built-in function\n",
        "\n",
        "print(type(a), a)\n",
        "#print(type(b), b)\n",
        "#print(type(c), c)\n",
        "#print(type(d), d)\n",
        "#print(type(e), e)\n",
        "#print(type(f), f)\n",
        "#print(type(g), g)"
      ]
    },
    {
      "cell_type": "markdown",
      "metadata": {
        "id": "6RywK211EAps"
      },
      "source": [
        "## 11. map\n",
        "The **map()** function is used to apply a function to each element of an iterable (e.g. a list, tuple, or set) and return a new iterable with the results. The map() function takes two arguments: a function and an iterable. The function should take one argument and return a value."
      ]
    },
    {
      "cell_type": "code",
      "execution_count": null,
      "metadata": {
        "id": "_ihDPH04EApt",
        "outputId": "bd949e64-6a5b-403c-9b6d-6c5fbe01ecdf"
      },
      "outputs": [
        {
          "name": "stdout",
          "output_type": "stream",
          "text": [
            "Received the argument ['one', 2, '3', 'Hello', 'Spam', (4+5j)] as input.\n",
            "Received the argument {'apple', 'banana', 'cucumber'} as input.\n"
          ]
        },
        {
          "data": {
            "text/plain": [
              "[None, None]"
            ]
          },
          "execution_count": 15,
          "metadata": {},
          "output_type": "execute_result"
        }
      ],
      "source": [
        "def f(x):\n",
        "    print(f\"Received the argument {x} as input.\")\n",
        "\n",
        "def g(y, z):\n",
        "    print(f\"Got the {y} and {z} as input arguments.\")\n",
        "\n",
        "\n",
        "a = [\"one\", 2, \"3\", \"Hello\", 'Spam', 4+5j]\n",
        "b = set([\"apple\", \"banana\", \"cucumber\"])\n",
        "\n",
        "# map(f, a) # returns a map object\n",
        "# list(map(f, a)) # applies the function for every argument within the iterable\n",
        "# list(map(g, a, b)) # stops when the shortest iterable is exhausted\n",
        "# list(map(f, (a, b))) # applies the function once to each of the iterables within the tuple once"
      ]
    },
    {
      "cell_type": "markdown",
      "metadata": {
        "id": "WByyOP28EApt"
      },
      "source": [
        "### 12. max\n",
        "\n",
        "Returns the biggest value within the iterable object passed in."
      ]
    },
    {
      "cell_type": "code",
      "execution_count": null,
      "metadata": {
        "id": "vyItkQTJEApt",
        "colab": {
          "base_uri": "https://localhost:8080/"
        },
        "outputId": "579787a0-1a71-4775-c133-84fcddcd0888"
      },
      "outputs": [
        {
          "output_type": "stream",
          "name": "stdout",
          "text": [
            "10\n",
            "5\n",
            "99\n",
            "10000\n",
            "Nothing\n"
          ]
        }
      ],
      "source": [
        "print(max(1, 10))\n",
        "print(max(1, 3, 4, 2, 5, 1))\n",
        "print(max(range(0, 100)))\n",
        "print(max(i ** 2 for i in range(0, 101)))\n",
        "print(max([], default = \"Nothing\")) # default is used when the iterable provided is empty, if default is not presented and the iterable is empty ValueError is raised\n"
      ]
    },
    {
      "cell_type": "markdown",
      "metadata": {
        "id": "aZf1aSrBEApu"
      },
      "source": [
        "## 13. min\n",
        "\n",
        "Returns the smallest value within the iterable object passed in.\n"
      ]
    },
    {
      "cell_type": "code",
      "execution_count": null,
      "metadata": {
        "id": "XiojuAPFEApu"
      },
      "outputs": [],
      "source": [
        "print(min(1, 10))\n",
        "print(min(1, 3, 4, 2, 5, 1))\n",
        "print(min(range(0, 100)))\n",
        "print(min(i ** 2 for i in range(0, 101)))\n",
        "print(min([], default = \"Nothing\")) # default is used when the iterable provided is empty, if default is not presented and the iterable is empty ValueError is raised"
      ]
    },
    {
      "cell_type": "code",
      "execution_count": null,
      "metadata": {
        "id": "L09XmJj3EApu"
      },
      "outputs": [],
      "source": [
        "a = iter([i for i in range(0, 5)])\n",
        "for i in a:\n",
        "    print(next(a, \"The Iterator Has Been exhausted.\"))\n",
        "\n",
        "b = iter((i for i in range(0, 5)))\n",
        "b = list(b)\n",
        "for i in range(0, len(b)):\n",
        "    # print(next(b, \"The Iterator Has Been exhausted.\"))\n",
        "    print(b[i])\n",
        "\n",
        "# once you feed an iterator into the list built-in function it gets iterated to the last item and used basically if you use list again on that\n",
        "# iterator it's going to return you an empty list"
      ]
    },
    {
      "cell_type": "markdown",
      "metadata": {
        "id": "XLmwPjAMEApu"
      },
      "source": [
        "## 14. pow\n",
        "To raise a number to a power. The pow() function takes two arguments: a base number and an exponent. The function returns the result of raising the base to the exponent."
      ]
    },
    {
      "cell_type": "code",
      "execution_count": null,
      "metadata": {
        "id": "a1PY9pNPEApv",
        "outputId": "ded54e3b-b2d7-4cb8-9144-6fd4e556ca8e"
      },
      "outputs": [
        {
          "name": "stdout",
          "output_type": "stream",
          "text": [
            "100\n",
            "0.01\n",
            "4\n",
            "4.0\n",
            "(1.631001474564026+5.01970638737426j)\n",
            "(1.631001474564026+5.01970638737426j)\n",
            "0\n"
          ]
        }
      ],
      "source": [
        "print(pow(10, 2))\n",
        "print(pow(10, -2))\n",
        "print(pow(-2, 2))\n",
        "print(pow(-2., 2))\n",
        "print(pow(-2, 2.4))\n",
        "print(pow(-2., 2.4)) #  For a negative base of type int or float and a non-integral exponent, a complex result is delivered\n",
        "\n",
        "# print(pow(2, 3, 2.4)) # raises error, modulo can only be an integer for integer bases and exponents\n",
        "# print(pow(2, 3, 0)) # raises error, modulo can not be 0 for integer bases and exponents\n",
        "\n",
        "print(pow(2, -3, 1)) # If mod is present and exp is negative, base must be relatively prime to mod\n",
        "\n",
        "\n",
        "# Extra info:\n",
        "# In that case, pow(inv_base, -exp, mod) is returned, where inv_base is an inverse to base modulo mod.\n",
        "# pow(38, -1, mod=97)\n",
        "# 23 * 38 % 97 == 1"
      ]
    },
    {
      "cell_type": "markdown",
      "metadata": {
        "id": "HTCSImNIEApv"
      },
      "source": [
        "## 15. repr\n",
        "repr representations of an object are representations that can be used to construct a new object if it is passed to the class."
      ]
    },
    {
      "cell_type": "code",
      "execution_count": 2,
      "metadata": {
        "id": "cFUzhN5DEApv",
        "colab": {
          "base_uri": "https://localhost:8080/"
        },
        "outputId": "f5dae583-cc59-45c0-e1b5-41e28f3623c0"
      },
      "outputs": [
        {
          "output_type": "stream",
          "name": "stdout",
          "text": [
            "<t, First> <t, First> <t, First>\n"
          ]
        }
      ],
      "source": [
        "class t:\n",
        "\n",
        "    def __init__(self, name):\n",
        "        self.name = name\n",
        "\n",
        "    def __repr__(self):\n",
        "        # return f\"{self.__class__.__name__(self.name)}\"\n",
        "        return f\"<{self.__class__.__name__}, {self.name}>\"\n",
        "\n",
        "a = t(\"First\")\n",
        "print(a, repr(a), repr(t(\"First\")))\n",
        "\n",
        "\n",
        "# Extra info:\n",
        "# should Return a string containing a printable representation of an object.\n",
        "# For many types, this function makes an attempt to return a string that would yield an object with the same value when passed to eval()\n",
        "# otherwise, the representation is a string enclosed in angle brackets that contains the name of the type of the object together with additional information often including the name and address of the object."
      ]
    },
    {
      "cell_type": "markdown",
      "metadata": {
        "id": "yab5FKnAEApw"
      },
      "source": [
        "## 16. reversed"
      ]
    },
    {
      "cell_type": "code",
      "execution_count": null,
      "metadata": {
        "id": "r4GDHH_dEApw"
      },
      "outputs": [],
      "source": [
        "nums = [1,2,3]\n",
        "nums2 = (1,2,3)\n",
        "print(list(reversed(nums)), list(reversed(nums2)))\n",
        "\n",
        "# reversed() returns a reverse iterator."
      ]
    },
    {
      "cell_type": "markdown",
      "source": [
        "Another example:"
      ],
      "metadata": {
        "id": "rAu4cHJpRfOF"
      }
    },
    {
      "cell_type": "code",
      "source": [
        "class t:\n",
        "\n",
        "    def __init__(self, num_range):\n",
        "        self.num_range = num_range\n",
        "\n",
        "    def __reversed__(self):\n",
        "        return [i for i in range(self.num_range)[::-1]] # returns a reversed list\n",
        "        return (i for i in range(self.nums_range)[::-1]) # returns a reversed generator\n",
        "\n",
        "a = t(4)\n",
        "print(list(reversed(a)))\n",
        "\n",
        "# Extra info:\n",
        "# input must be an object which has a __reversed__() method\n",
        "# OR\n",
        "# input must be an object which supports the sequence protocol (the __len__() method and the __getitem__() method with integer arguments starting at 0)"
      ],
      "metadata": {
        "id": "BPdrSgEdReNe"
      },
      "execution_count": null,
      "outputs": []
    },
    {
      "cell_type": "markdown",
      "metadata": {
        "id": "f1h-qxxCEApw"
      },
      "source": [
        "## 17. round\n",
        "\n",
        "Round a number to a given precision in decimal digits. The return value is an integer if ndigits is omitted or None. Otherwise the return value has the same type as the number.  ndigits may be negative."
      ]
    },
    {
      "cell_type": "code",
      "source": [
        "a = 10.1234567\n",
        "\n",
        "print(round(a, 3))\n",
        "print(round(a))\n",
        "print(round(a, None))\n",
        "print(round(a, -1)) # what does it do"
      ],
      "metadata": {
        "id": "bwNRA3gAQ0XR"
      },
      "execution_count": null,
      "outputs": []
    },
    {
      "cell_type": "code",
      "execution_count": null,
      "metadata": {
        "id": "6qGHW0G1EApw",
        "outputId": "5134f8c0-a03f-49b0-f775-a93ff71a835c",
        "colab": {
          "base_uri": "https://localhost:8080/"
        }
      },
      "outputs": [
        {
          "output_type": "stream",
          "name": "stdout",
          "text": [
            "0 -1 2\n"
          ]
        }
      ],
      "source": [
        "# For the built-in types supporting round(), values are rounded to the closest multiple of 10 to the power minus ndigits\n",
        "# if two multiples are equally close, rounding is done toward the even choice\n",
        "\n",
        "print(round(0.5), round(-0.5), round(1.5))\n",
        "\n",
        "# most decimal fractions can’t be represented exactly as a float"
      ]
    },
    {
      "cell_type": "markdown",
      "source": [
        "Another example:"
      ],
      "metadata": {
        "id": "y1ZvrGdpRLFs"
      }
    },
    {
      "cell_type": "code",
      "source": [
        "class t:\n",
        "\n",
        "    def __init__(self, val):\n",
        "        self.val = val\n",
        "\n",
        "    def __round__(self):\n",
        "        return round(self.val)\n",
        "\n",
        "a = t(1.3)\n",
        "print(round(a))"
      ],
      "metadata": {
        "id": "7RmAC3pdRBgi"
      },
      "execution_count": null,
      "outputs": []
    },
    {
      "cell_type": "markdown",
      "metadata": {
        "id": "wZcLCKyzEApy"
      },
      "source": [
        "## 18. set\n",
        "A set is a collection of unique elements, similar to a mathematical set.\n",
        "\n",
        "It helps to create an ordered collection of unique elements."
      ]
    },
    {
      "cell_type": "code",
      "execution_count": null,
      "metadata": {
        "id": "OTDXOWjKEApy",
        "outputId": "ee9a89fa-dc93-4644-c083-3230f6f3413e"
      },
      "outputs": [
        {
          "name": "stdout",
          "output_type": "stream",
          "text": [
            "{1, 34.5, (1+2j), 'hey', 'arian'} {0, 1, 2, 3, 4} {2, 3, 4, 5, 6, 7, 8, 9, 10, 11}\n"
          ]
        }
      ],
      "source": [
        "a = [1, \"arian\", 'hey', 34.5, 1+2j]\n",
        "b = [i for i in range(5)]\n",
        "c = (x + 2 for x in range(10))\n",
        "print(set(a), set(b), set(c))"
      ]
    },
    {
      "cell_type": "markdown",
      "metadata": {
        "id": "oOiWpTWdEApz"
      },
      "source": [
        "## 19. sorted\n",
        "\n",
        "Return a new list containing all items from the iterable in ascending order. A custom key function can be supplied to customize the sort order, and the reverse flag can be set to request the result in descending order."
      ]
    },
    {
      "cell_type": "code",
      "execution_count": null,
      "metadata": {
        "id": "Ut1Oi5B-EApz",
        "outputId": "9b164955-c67e-49c2-e948-2999d9d282f6"
      },
      "outputs": [
        {
          "name": "stdout",
          "output_type": "stream",
          "text": [
            "[1, 2, 3] ['1', '2', '3+4j', 'arian', 'hey'] [(3+2j), 1, 'hi']\n",
            "[1, 2, 3] ['1', '2', '3+4j', 'arian', 'hey'] ['hi', 1, (3+2j)]\n"
          ]
        }
      ],
      "source": [
        "a = [1, 2, 3]\n",
        "b = [\"1\", \"arian\", \"hey\", \"2\", \"3+4j\"]\n",
        "c = [1, \"hi\", 3+2j] # items in c can not be compared directly so they have to be switched to a string each using str function first\n",
        "# as it has been given to the key argument\n",
        "# print(sorted(a), sorted(b), sorted(c, key = str))\n",
        "\n",
        "\n",
        "\n",
        "def cmpr(x):\n",
        "    return str(x)\n",
        "\n",
        "\n",
        "print(sorted(a), sorted(b), sorted(c, key = cmpr, reverse = False))\n",
        "print(sorted(a), sorted(b), sorted(c, key = cmpr, reverse = True))\n",
        "\n",
        "# key specifies a function of one argument that is used to extract a comparison key from each element in iterable (for example, key=str.lower). The default value is None (compare the elements directly).\n",
        "\n",
        "\n",
        "# The built-in sorted() function is guaranteed to be stable. A sort is stable if it guarantees not to change the relative order of elements that compare equal — this is helpful for sorting in multiple passes (for example, sort by department, then by salary grade)."
      ]
    },
    {
      "cell_type": "markdown",
      "metadata": {
        "id": "zwn5p_z5EAp0"
      },
      "source": [
        "## 20. sum\n",
        "\n",
        "Return the sum of a 'start' value (default: 0) plus an iterable of numbers. When the iterable is empty, return the start value. This function is intended specifically for use with numeric values and may reject non-numeric types."
      ]
    },
    {
      "cell_type": "code",
      "execution_count": null,
      "metadata": {
        "id": "r1tEN7TiEAp0"
      },
      "outputs": [],
      "source": [
        "b = [1, 3, 3+4j]\n",
        "print(sum(b), sum(b, start = 4), sum(b, 4))"
      ]
    },
    {
      "cell_type": "markdown",
      "metadata": {
        "id": "PqvE45faEAp0"
      },
      "source": [
        "## 21. zip\n",
        "The zip object yields n-length tuples, where n is the number of iterables passed as positional arguments to zip(). The i-th element in every tuple comes from the i-th iterable argument to zip(). This continues until the shortest argument is exhausted."
      ]
    },
    {
      "cell_type": "code",
      "execution_count": null,
      "metadata": {
        "id": "i5w7ijI4EAp0",
        "outputId": "7aa71bc9-007a-408c-9988-aade6281ac17"
      },
      "outputs": [
        {
          "name": "stdout",
          "output_type": "stream",
          "text": [
            "1 4.0 3 (5-2j)\n",
            "[(1, 4.0, '3', (5-2j))]\n"
          ]
        },
        {
          "data": {
            "text/plain": [
              "True"
            ]
          },
          "execution_count": 25,
          "metadata": {},
          "output_type": "execute_result"
        }
      ],
      "source": [
        "a = [1, 4., \"3\", 5 - 2j]\n",
        "b = [\"hi\", str(2), int(\"3\")]\n",
        "c = list(zip(a,b))\n",
        "print(*a)\n",
        "# print(c)\n",
        "# print(list(zip(a,b, strict = True))) # raises a ValueError because of difference in the lengthes of the two lists.\n",
        "# zip() is lazy: The elements won’t be processed until the iterable is iterated on.\n",
        "\n",
        "\n",
        "# print(list(zip(a))) # With a single iterable argument, zip() returns an iterator of 1-tuples.\n",
        "# print(list(zip()), zip, sep = \"\\n\\n\") # With no arguments, it returns an empty iterator."
      ]
    },
    {
      "cell_type": "markdown",
      "source": [
        "Another example:"
      ],
      "metadata": {
        "id": "SviLLjy7QRJO"
      }
    },
    {
      "cell_type": "code",
      "source": [
        "x = [1, 2, 3]\n",
        "y = [4, 5, 6]\n",
        "list(zip(x, y))\n",
        "\n",
        "x2, y2 = zip(*zip(x, y))\n",
        "x == list(x2) and y == list(y2)"
      ],
      "metadata": {
        "id": "rH6gdp1kQQMW"
      },
      "execution_count": null,
      "outputs": []
    },
    {
      "cell_type": "markdown",
      "metadata": {
        "id": "n_o_HFsqEAp1"
      },
      "source": [
        "------------------------------------------------------------------------------------------------------------------------------------------------------------------------------------------------------------------------------------"
      ]
    },
    {
      "cell_type": "markdown",
      "metadata": {
        "id": "fjOCFubgEAp1"
      },
      "source": [
        "# 22. all\n",
        "The all() function is used to check if all elements of an iterable (e.g. a list, tuple, or set) are true. The all() function takes a single argument, which is the iterable to check."
      ]
    },
    {
      "cell_type": "code",
      "execution_count": 3,
      "metadata": {
        "id": "yLHERz7OEAp1",
        "colab": {
          "base_uri": "https://localhost:8080/"
        },
        "outputId": "2fafa473-b25d-46e3-e37d-b4d6e41a4902"
      },
      "outputs": [
        {
          "output_type": "stream",
          "name": "stdout",
          "text": [
            "True True False False True\n",
            "True True False False True\n"
          ]
        }
      ],
      "source": [
        "a = [True, True, True]\n",
        "b = [i for i in [True]] # if i is True]\n",
        "c = [False, True]\n",
        "d = [False, False]\n",
        "e = []\n",
        "print(all(a), all(b), all(c), all(d), all(e))\n",
        "\n",
        "\n",
        "# which is equivalent to:\n",
        "\n",
        "def f(x):\n",
        "    for i in x:\n",
        "        if not i:\n",
        "            return False\n",
        "    return True # if we exclued this line it will return None.\n",
        "\n",
        "print(f(a), f(b), f(c), f(d), f(e))"
      ]
    },
    {
      "cell_type": "markdown",
      "metadata": {
        "id": "CJk7UjtMEAp1"
      },
      "source": [
        "## 23. any\n",
        "The any() function is used to check if at least one element of an iterable (e.g. a list, tuple, or set) is true. The any() function takes a single argument, which is the iterable to check."
      ]
    },
    {
      "cell_type": "code",
      "execution_count": 4,
      "metadata": {
        "id": "JoPMgatVEAp1",
        "colab": {
          "base_uri": "https://localhost:8080/"
        },
        "outputId": "92636e09-3a9d-483b-c02b-0972a8111e9b"
      },
      "outputs": [
        {
          "output_type": "stream",
          "name": "stdout",
          "text": [
            "False False True True True True True False\n",
            "False False True True True True True False\n"
          ]
        }
      ],
      "source": [
        "a = [False]\n",
        "b = [False,]\n",
        "c = [False, True]\n",
        "d = [True]\n",
        "e = [True,]\n",
        "f = [False, True, False, False]\n",
        "g = [False, True, True, False]\n",
        "h = []\n",
        "print(any(a), any(b), any(c), any(d), any(e), any(f), any(g), any(h))\n",
        "\n",
        "\n",
        "def func(x):\n",
        "    for i in x:\n",
        "        if i:\n",
        "            return True\n",
        "    return False\n",
        "\n",
        "print(func(a), func(b), func(c), func(d), func(e), func(f), func(g), func(h))"
      ]
    },
    {
      "cell_type": "markdown",
      "source": [
        "Exercise:\n",
        "\n",
        "Write a Python program that takes in two lists of numbers and performs the following operations:\n",
        "\n",
        "Create a set from each list and print them to the console using the print() function.\n",
        "\n",
        "Use the map() function to create a new list that contains the squares of each element in the first list. Print the new list to the console.\n",
        "\n",
        "\n",
        "Use the filter() function to create a new list that contains only the even numbers from the second list. Print the new list to the console.\n",
        "\n",
        "\n",
        "Use the zip() function to create a new list that contains tuples of corresponding elements from the two lists. Print the new list to the console.\n",
        "\n",
        "\n",
        "Use the all() function to check if all elements in the first list are greater than zero. Print the result to the console.\n",
        "\n",
        "\n",
        "Use the any() function to check if any elements in the second list are negative. Print the result to the console."
      ],
      "metadata": {
        "id": "1yOCf1hwS5km"
      }
    },
    {
      "cell_type": "code",
      "source": [
        "#code here:"
      ],
      "metadata": {
        "id": "7eQI_3gkTD1c"
      },
      "execution_count": null,
      "outputs": []
    }
  ],
  "metadata": {
    "kernelspec": {
      "display_name": "Python 3",
      "language": "python",
      "name": "python3"
    },
    "language_info": {
      "codemirror_mode": {
        "name": "ipython",
        "version": 3
      },
      "file_extension": ".py",
      "mimetype": "text/x-python",
      "name": "python",
      "nbconvert_exporter": "python",
      "pygments_lexer": "ipython3",
      "version": "3.11.2"
    },
    "orig_nbformat": 4,
    "vscode": {
      "interpreter": {
        "hash": "5238573367df39f7286bb46f9ff5f08f63a01a80960060ce41e3c79b190280fa"
      }
    },
    "colab": {
      "provenance": []
    }
  },
  "nbformat": 4,
  "nbformat_minor": 0
}